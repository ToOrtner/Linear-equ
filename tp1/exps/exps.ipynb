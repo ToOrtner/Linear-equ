{
 "cells": [
  {
   "cell_type": "code",
   "execution_count": 41,
   "metadata": {},
   "outputs": [],
   "source": [
    "import numpy as np\n",
    "import pandas as pd\n",
    "import seaborn as sns\n",
    "import subprocess\n",
    "import matplotlib.pyplot as plt\n",
    "import sys\n",
    "import os\n",
    "from fnmatch import fnmatch"
   ]
  },
  {
   "cell_type": "code",
   "execution_count": 42,
   "metadata": {},
   "outputs": [],
   "source": [
    "def listfiles(root, pattern):\n",
    "  for path, subdirs, files in os.walk(root):\n",
    "    for name in files:\n",
    "      if fnmatch(name, pattern):\n",
    "        yield os.path.join(path, name)"
   ]
  },
  {
   "cell_type": "markdown",
   "metadata": {},
   "source": [
    "# EXPERIMENTOS CUANTITATIVOS"
   ]
  },
  {
   "cell_type": "markdown",
   "metadata": {},
   "source": [
    "## Diferencia de resultados\n",
    "\n",
    "Tenemos 3 metodos:\n",
    "   - CMM\n",
    "   - WP\n",
    "   - WP con Laplace\n",
    "\n",
    "Para cada método, ejecutamos un conjunto de test supervisados y comparamos el modulo del error obtenido en cada uno.\n",
    "Para CMM usamos los tests de la catedra. En los otros dos, los generamos utilizando los inputs de la catedra, pero outputs calculados a mano."
   ]
  },
  {
   "cell_type": "code",
   "execution_count": 34,
   "metadata": {},
   "outputs": [],
   "source": [
    "def correr_metodo(inputPath, outputPath, metodo): \n",
    "    result = subprocess.run([f'../cmake-build-debug/tp1', inputPath, outputPath, metodo],\n",
    "                            stdout=subprocess.PIPE, encoding='ascii')\n",
    "    return result"
   ]
  },
  {
   "cell_type": "markdown",
   "metadata": {},
   "source": [
    "### CMM"
   ]
  },
  {
   "cell_type": "code",
   "execution_count": 69,
   "metadata": {},
   "outputs": [],
   "source": [
    "#Runnea todos los test de la catedra y guarda las salidas\n",
    "outFolder = './cuantitativo_diff/'\n",
    "def runCMMDifference():\n",
    "    for fname in listfiles('../tests', '*.in'):\n",
    "        name = fname.split('/')[-1]\n",
    "        #print(name[-1])\n",
    "        correr_metodo(fname, outFolder + name.replace(\".in\", \".out\"), '0')"
   ]
  },
  {
   "cell_type": "code",
   "execution_count": 72,
   "metadata": {},
   "outputs": [],
   "source": [
    "#runCMMDifference()\n",
    "df = pd.read_csv(outFolder + 'test1.out')\n",
    "?pd.read_csv"
   ]
  },
  {
   "cell_type": "markdown",
   "metadata": {},
   "source": [
    "# EXPERIMENTOS CUALITATIVOS"
   ]
  },
  {
   "cell_type": "code",
   "execution_count": 67,
   "metadata": {},
   "outputs": [],
   "source": []
  }
 ],
 "metadata": {
  "kernelspec": {
   "display_name": "Python 3",
   "language": "python",
   "name": "python3"
  },
  "language_info": {
   "codemirror_mode": {
    "name": "ipython",
    "version": 3
   },
   "file_extension": ".py",
   "mimetype": "text/x-python",
   "name": "python",
   "nbconvert_exporter": "python",
   "pygments_lexer": "ipython3",
   "version": "3.8.2"
  }
 },
 "nbformat": 4,
 "nbformat_minor": 4
}
