{
 "cells": [
  {
   "cell_type": "code",
   "execution_count": 51,
   "metadata": {},
   "outputs": [],
   "source": [
    "import numpy as np\n",
    "import pandas as pd\n",
    "import seaborn as sns\n",
    "import subprocess\n",
    "import matplotlib.pyplot as plt\n",
    "import sys\n",
    "import os\n",
    "from fnmatch import fnmatch"
   ]
  },
  {
   "cell_type": "code",
   "execution_count": 52,
   "metadata": {},
   "outputs": [],
   "source": [
    "def listfiles(root, pattern):\n",
    "  for path, subdirs, files in os.walk(root):\n",
    "    for name in files:\n",
    "      if fnmatch(name, pattern):\n",
    "        yield os.path.join(path, name)"
   ]
  },
  {
   "cell_type": "markdown",
   "metadata": {},
   "source": [
    "# EXPERIMENTOS CUANTITATIVOS"
   ]
  },
  {
   "cell_type": "markdown",
   "metadata": {},
   "source": [
    "## Diferencia de resultados\n",
    "\n",
    "Tenemos 3 metodos:\n",
    "   - CMM\n",
    "   - WP\n",
    "   - WP con Laplace\n",
    "\n",
    "Para cada método, ejecutamos un conjunto de test supervisados y comparamos el modulo del error obtenido en cada uno.\n",
    "Para CMM usamos los tests de la catedra. En los otros dos, los generamos utilizando los inputs de la catedra, pero outputs calculados a mano."
   ]
  },
  {
   "cell_type": "code",
   "execution_count": 79,
   "metadata": {},
   "outputs": [],
   "source": [
    "def correr_metodo(inputPath, outputPath, metodo):\n",
    "    result = subprocess.run([f'../cmake-build-debug/tp1', inputPath, outputPath, metodo],\n",
    "                            stdout=subprocess.PIPE, encoding='ascii')\n",
    "    return result"
   ]
  },
  {
   "cell_type": "markdown",
   "metadata": {},
   "source": [
    "### CMM"
   ]
  },
  {
   "cell_type": "code",
   "execution_count": 69,
   "metadata": {},
   "outputs": [],
   "source": [
    "#Runnea todos los test de la catedra y guarda las salidas\n",
    "outFolder = './cuantitativo_diff/'\n",
    "def runCMMDifference():\n",
    "    for fname in listfiles('../tests', '*.in'):\n",
    "        name = fname.split('/')[-1]\n",
    "        #print(name[-1])\n",
    "        correr_metodo(fname, outFolder + name.replace(\".in\", \".out\"), '0')"
   ]
  },
  {
   "cell_type": "code",
   "execution_count": 21,
   "metadata": {},
   "outputs": [],
   "source": [
    "#runCMMDifference();"
   ]
  },
  {
   "cell_type": "markdown",
   "metadata": {},
   "source": [
    "# EXPERIMENTOS CUALITATIVOS"
   ]
  },
  {
   "cell_type": "markdown",
   "metadata": {},
   "source": [
    "En este experimento vamos a ejecutar un set de datos de la temporada 2016 de la nba, sin la ultima fecha. Despues de eso, vamos a ver que ranking (de cada metodo) se ajusta mejor a los resultados reales en la ultima fecha."
   ]
  },
  {
   "cell_type": "code",
   "execution_count": 85,
   "metadata": {},
   "outputs": [
    {
     "data": {
      "text/plain": [
       "CompletedProcess(args=['../cmake-build-debug/tp1', '../data/nba_2016_scores_without_lastdate.dat', 'cualitativo_sin_ultima_fecha.csv', '0'], returncode=0, stdout='')"
      ]
     },
     "execution_count": 85,
     "metadata": {},
     "output_type": "execute_result"
    }
   ],
   "source": [
    "def runCompararConDatosReales():\n",
    "    for i in range(0, 2):\n",
    "        correr_metodo('../data/nba_2016_scores_without_lastdate.dat', './cualitativo_sin_ultima_fecha.csv', str(i))\n",
    "\n",
    "exportPath = 'cualitativo_sin_ultima_fecha.csv'\n",
    "\n",
    "correr_metodo('../data/nba_2016_scores_without_lastdate.dat', exportPath, '0')"
   ]
  },
  {
   "cell_type": "code",
   "execution_count": 344,
   "metadata": {},
   "outputs": [],
   "source": [
    "def armarTabla(scoresPath):\n",
    "    #Busco el resultado\n",
    "    scores = pd.read_csv(scoresPath, names=['Score'])\n",
    "    #Busco los nombres de los equipos\n",
    "    equipos = pd.read_csv('../data/nba_2016_teams.csv', names=['ID', 'Team'])\n",
    "    #Join de los df\n",
    "    rankings = equipos.join(scores).sort_values(by='Score', ascending=False)\n",
    "\n",
    "    ultimosPartidos = pd.read_csv('../data/nba_2016_scores_lastdate.csv')\n",
    "    ultimosPartidos['Acerto'] = 'No'\n",
    "\n",
    "    for partido in ultimosPartidos.itertuples():\n",
    "        team1 = rankings[rankings['ID'] == partido.equipo1]\n",
    "        team2 = rankings[rankings['ID'] == partido.equipo2]\n",
    "        score1 = team1['Score']\n",
    "        score2 = team2['Score']\n",
    "\n",
    "        #Guardo el nombre de los equipos\n",
    "        ultimosPartidos.at[partido.Index, 'Equipo 1'] = team1['Team'].values[0]\n",
    "        ultimosPartidos.at[partido.Index, 'Equipo 2'] = team2['Team'].values[0]\n",
    "        #Guardo el score que saco en el ranking cada equipo\n",
    "        ultimosPartidos.at[partido.Index, 'Score equipo 1'] = team1['Score'].values[0]\n",
    "        ultimosPartidos.at[partido.Index, 'Score equipo 2'] = team2['Score'].values[0]\n",
    "        #Guardo el resultado del partido en 1 sola columna\n",
    "        ultimosPartidos.at[partido.Index, 'Resultado'] = \"%s - %s\" %(partido.puntaje1, partido.puntaje2)\n",
    "\n",
    "        if (partido.puntaje1 > partido.puntaje2 and float(score1) > float(score2)) or \\\n",
    "           (partido.puntaje1 < partido.puntaje2 and float(score1) < float(score2)):\n",
    "            ultimosPartidos.at[partido.Index, 'Acerto'] = 'Si'\n",
    "\n",
    "    ultimosPartidos = ultimosPartidos[['Equipo 1', 'Resultado', 'Equipo 2', 'Score equipo 1', 'Score equipo 2', 'Acerto']]\n",
    "    return ultimosPartidos"
   ]
  },
  {
   "cell_type": "code",
   "execution_count": 351,
   "metadata": {
    "scrolled": true
   },
   "outputs": [],
   "source": [
    "exportPath = 'cualitativo_sin_ultima_fecha.csv'\n",
    "table = armarTabla(exportPath)\n",
    "table.to_csv('cualitativo_CMM.csv', index=False)"
   ]
  }
 ],
 "metadata": {
  "kernelspec": {
   "display_name": "Python 3",
   "language": "python",
   "name": "python3"
  },
  "language_info": {
   "codemirror_mode": {
    "name": "ipython",
    "version": 3
   },
   "file_extension": ".py",
   "mimetype": "text/x-python",
   "name": "python",
   "nbconvert_exporter": "python",
   "pygments_lexer": "ipython3",
   "version": "3.8.2"
  }
 },
 "nbformat": 4,
 "nbformat_minor": 4
}
