{
 "cells": [
  {
   "cell_type": "code",
   "execution_count": 1,
   "metadata": {},
   "outputs": [],
   "source": [
    "import numpy as np\n",
    "import pandas as pd\n",
    "import seaborn as sns\n",
    "import subprocess\n",
    "import matplotlib.pyplot as plt\n",
    "import sys\n",
    "import os\n",
    "from fnmatch import fnmatch"
   ]
  },
  {
   "cell_type": "code",
   "execution_count": 8,
   "metadata": {},
   "outputs": [],
   "source": [
    "# Ejecuta el codigo de c++\n",
    "def correr_metodo(inputPath, outputPath, metodo):\n",
    "    result = subprocess.run([f'../tp1', inputPath, outputPath, metodo],\n",
    "                            stdout=subprocess.PIPE, encoding='ascii')\n",
    "    return result"
   ]
  },
  {
   "cell_type": "markdown",
   "metadata": {},
   "source": [
    "# EXPERIMENTOS "
   ]
  },
  {
   "cell_type": "markdown",
   "metadata": {},
   "source": [
    "Tenemos 3 metodos:\n",
    "   - CMM\n",
    "   - WP\n",
    "   - WP con Laplace"
   ]
  },
  {
   "cell_type": "code",
   "execution_count": 3,
   "metadata": {},
   "outputs": [],
   "source": [
    "metodos = [\"CMM\", \"WP\", \"WPL\"]"
   ]
  },
  {
   "cell_type": "markdown",
   "metadata": {},
   "source": [
    "## Calidad de los métodos\n",
    "\n",
    "En este experimento vamos a ejecutar un set de datos de la temporada 2016 de la nba, sin la ultima fecha. Despues de eso, vamos a ver que ranking (de cada metodo) se ajusta mejor a los resultados reales en la ultima fecha."
   ]
  },
  {
   "cell_type": "code",
   "execution_count": 9,
   "metadata": {},
   "outputs": [],
   "source": [
    "def armarTabla(scores_path, next_scores_path):\n",
    "    #Busco el resultado\n",
    "    scores = pd.read_csv(scores_path, names=['Score'])\n",
    "    #Busco los nombres de los equipos\n",
    "    equipos = pd.read_csv('../data/nba_2016_teams.csv', names=['ID', 'Team'])\n",
    "    #Join de los df\n",
    "    rankings = equipos.join(scores).sort_values(by='Score', ascending=False)\n",
    "\n",
    "    next_scores = pd.read_csv(next_scores_path)\n",
    "    next_scores['Acerto'] = 'No'\n",
    "\n",
    "    for partido in next_scores.itertuples():\n",
    "        team1 = rankings[rankings['ID'] == partido.equipo1]\n",
    "        team2 = rankings[rankings['ID'] == partido.equipo2]\n",
    "        score1 = team1['Score']\n",
    "        score2 = team2['Score']\n",
    "\n",
    "        #Guardo el nombre de los equipos\n",
    "        next_scores.at[partido.Index, 'Equipo 1'] = team1['Team'].values[0]\n",
    "        next_scores.at[partido.Index, 'Equipo 2'] = team2['Team'].values[0]\n",
    "        #Guardo el score que saco en el ranking cada equipo\n",
    "        next_scores.at[partido.Index, 'Score equipo 1'] = team1['Score'].values[0]\n",
    "        next_scores.at[partido.Index, 'Score equipo 2'] = team2['Score'].values[0]\n",
    "        #Guardo el resultado del partido en 1 sola columna\n",
    "        next_scores.at[partido.Index, 'Resultado'] = \"%s - %s\" %(partido.puntaje1, partido.puntaje2)\n",
    "\n",
    "        if (partido.puntaje1 > partido.puntaje2 and float(score1) > float(score2)) or \\\n",
    "           (partido.puntaje1 < partido.puntaje2 and float(score1) < float(score2)):\n",
    "            next_scores.at[partido.Index, 'Acerto'] = 'Si'\n",
    "\n",
    "    next_scores = next_scores[['Equipo 1', 'Resultado', 'Equipo 2', 'Score equipo 1', 'Score equipo 2', 'Acerto']]\n",
    "    return next_scores"
   ]
  },
  {
   "cell_type": "markdown",
   "metadata": {},
   "source": [
    "### Experimento sin ultima fecha"
   ]
  },
  {
   "cell_type": "code",
   "execution_count": 15,
   "metadata": {},
   "outputs": [],
   "source": [
    "export_path_posfix = '_cualitativo_last_date.csv'\n",
    "\n",
    "for i in range(len(metodos)):\n",
    "    correr_metodo('../data/nba_2016_scores_without_lastdate.dat', metodos[i] + export_path_posfix, '%d' % i)\n",
    "    \n",
    "next_scores_path = '../data/nba_2016_scores_lastdate.csv'\n",
    "for metodo in metodos:\n",
    "    table = armarTabla(metodo + export_path_posfix, next_scores_path)\n",
    "    table.to_csv('last_date_cualitativo_%s.csv' % metodo, index=False)"
   ]
  },
  {
   "cell_type": "markdown",
   "metadata": {},
   "source": [
    "### Experimento segunda fecha"
   ]
  },
  {
   "cell_type": "code",
   "execution_count": 16,
   "metadata": {},
   "outputs": [],
   "source": [
    "export_path_posfix = '_cualitativo_segunda_fecha.csv'\n",
    "\n",
    "for i in range(len(metodos)):\n",
    "    correr_metodo('../data/nba_2016_scores_first_date.dat', metodos[i] + export_path_posfix, '%d' % i)\n",
    "    \n",
    "next_scores_path = '../data/nba_2016_second_date.csv'\n",
    "for metodo in metodos:\n",
    "    table = armarTabla(metodo + export_path_posfix, next_scores_path)\n",
    "    table.to_csv('segunda_fecha_cualitativo_%s.csv' % metodo, index=False)"
   ]
  },
  {
   "cell_type": "markdown",
   "metadata": {},
   "source": [
    "### Experimentos de comparacion de metodos\n",
    "Columnas con los scores de los 3 metodos tanto en primera como en ultima fecha (los 2 de arriba)"
   ]
  },
  {
   "cell_type": "code",
   "execution_count": 17,
   "metadata": {},
   "outputs": [],
   "source": [
    "for prefix in ['segunda_fecha', 'last_date']:\n",
    "    \n",
    "    export_path_posfix = '_cualitativo_'+ prefix +'.csv'\n",
    "    CMM_scores = pd.read_csv(metodos[0] + export_path_posfix, names=['CMM score'])\n",
    "    WP_scores = pd.read_csv(metodos[1] + export_path_posfix, names=['WP score'])\n",
    "    WPL_scores = pd.read_csv(metodos[2] + export_path_posfix, names=['WPL score'])\n",
    "\n",
    "    equipos = pd.read_csv('../data/nba_2016_teams.csv', names=['ID', 'Team'])\n",
    "    #Join de los df\n",
    "    rankings = equipos.join(CMM_scores)\n",
    "    rankings = rankings.join(WP_scores)\n",
    "    rankings = rankings.join(WPL_scores)\n",
    "\n",
    "    rankings.to_csv('comparacion_metodos_cualitativo_' + prefix + '.csv', index=False)"
   ]
  },
  {
   "cell_type": "markdown",
   "metadata": {},
   "source": [
    "## Conseguir los coeficientes de penalización"
   ]
  },
  {
   "cell_type": "code",
   "execution_count": 31,
   "metadata": {},
   "outputs": [],
   "source": [
    "for prefix in [\"segunda_fecha_cualitativo_\", \"last_date_cualitativo_\"]:\n",
    "    for method in [\"CMM\", \"WP\", \"WPL\"]:\n",
    "        file = prefix + method + \".csv\"\n",
    "        output = \"penal-\" + prefix + method + \".csv\"\n",
    "\n",
    "        with open(file, 'r') as csvfile, open(output, 'w') as outfile:\n",
    "            score_reader = pd.read_csv(csvfile)\n",
    "            suma = 0\n",
    "            for partido in score_reader.itertuples():\n",
    "                resta = float(partido[5]) - float(partido[4])\n",
    "                dif = abs(resta)\n",
    "\n",
    "                if (partido[6].lower() == 'si'):\n",
    "                    coef = dif\n",
    "                else:\n",
    "                    coef = -1 * dif\n",
    "                suma += coef\n",
    "                if coef == 0.0:\n",
    "                    outfile.write(\"0\\n\")\n",
    "                else:\n",
    "                    outfile.write(str(\"%.3f\" % coef) + \"\\n\")\n",
    "            res = suma / len(score_reader)\n",
    "            outfile.write(\"%.3f\" % res)"
   ]
  }
 ],
 "metadata": {
  "kernelspec": {
   "display_name": "Python 3",
   "language": "python",
   "name": "python3"
  },
  "language_info": {
   "codemirror_mode": {
    "name": "ipython",
    "version": 3
   },
   "file_extension": ".py",
   "mimetype": "text/x-python",
   "name": "python",
   "nbconvert_exporter": "python",
   "pygments_lexer": "ipython3",
   "version": "3.8.2"
  }
 },
 "nbformat": 4,
 "nbformat_minor": 4
}
